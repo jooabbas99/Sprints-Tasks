{
 "cells": [
  {
   "cell_type": "code",
   "execution_count": 5,
   "id": "b40f5f01",
   "metadata": {},
   "outputs": [],
   "source": [
    "from pyflowchart import Flowchart\n",
    "from PIL import Image\n"
   ]
  },
  {
   "cell_type": "code",
   "execution_count": 18,
   "id": "fa7dcd5b",
   "metadata": {},
   "outputs": [],
   "source": [
    "\n",
    "code = \"\"\"\n",
    "\n",
    "def BTN_status(btn: ST_BUTTON_t, status: List[int]) -> EN_BTN_ERROR_t:\n",
    "    if DIO_ReadPin(btn.dio) != EN_BTN_ERROR_t.BTN_OK:\n",
    "        return EN_BTN_ERROR_t.BTN_ERROR_DIO\n",
    "    if btn.mode == BTN_PULL_MODE.BTN_PULL_DOWN:\n",
    "        status[0] = BTN_ACTIVE if btn.dio.port_value == 1 else BTN_DISABLE\n",
    "    else:\n",
    "        status[0] = BTN_DISABLE if btn.dio.port_value == 1 else BTN_ACTIVE\n",
    "    return EN_BTN_ERROR_t.BTN_OK\n",
    "\n",
    "\"\"\"\n",
    "\n",
    "\n"
   ]
  },
  {
   "cell_type": "code",
   "execution_count": 19,
   "id": "b69d03db",
   "metadata": {},
   "outputs": [],
   "source": [
    "fc = Flowchart.from_code(code)"
   ]
  },
  {
   "cell_type": "code",
   "execution_count": 20,
   "id": "39a67337",
   "metadata": {},
   "outputs": [
    {
     "name": "stdout",
     "output_type": "stream",
     "text": [
      "st306=>start: start BTN_status\n",
      "io308=>inputoutput: input: btn, status\n",
      "cond312=>condition: if (DIO_ReadPin(btn.dio) != EN_BTN_ERROR_t.BTN_OK)\n",
      "io319=>inputoutput: output:  EN_BTN_ERROR_t.BTN_ERROR_DIO\n",
      "e317=>end: end function return\n",
      "cond326=>condition: if (btn.mode == BTN_PULL_MODE.BTN_PULL_DOWN)\n",
      "op330=>operation: status[0] = (BTN_ACTIVE if (btn.dio.port_value == 1) else BTN_DISABLE)\n",
      "io340=>inputoutput: output:  EN_BTN_ERROR_t.BTN_OK\n",
      "e338=>end: end function return\n",
      "op334=>operation: status[0] = (BTN_DISABLE if (btn.dio.port_value == 1) else BTN_ACTIVE)\n",
      "\n",
      "st306->io308\n",
      "io308->cond312\n",
      "cond312(yes)->io319\n",
      "io319->e317\n",
      "cond312(no)->cond326\n",
      "cond326(yes)->op330\n",
      "op330->io340\n",
      "io340->e338\n",
      "cond326(no)->op334\n",
      "op334->io340\n",
      "\n"
     ]
    }
   ],
   "source": [
    "print(fc.flowchart())\n"
   ]
  },
  {
   "cell_type": "code",
   "execution_count": 18,
   "id": "be9041c9",
   "metadata": {},
   "outputs": [
    {
     "ename": "AttributeError",
     "evalue": "'Flowchart' object has no attribute 'render'",
     "output_type": "error",
     "traceback": [
      "\u001b[0;31m---------------------------------------------------------------------------\u001b[0m",
      "\u001b[0;31mAttributeError\u001b[0m                            Traceback (most recent call last)",
      "Cell \u001b[0;32mIn[18], line 5\u001b[0m\n\u001b[1;32m      2\u001b[0m fc \u001b[38;5;241m=\u001b[39m Flowchart\u001b[38;5;241m.\u001b[39mfrom_code(code)\n\u001b[1;32m      4\u001b[0m \u001b[38;5;66;03m# Render the flowchart to a PNG image file\u001b[39;00m\n\u001b[0;32m----> 5\u001b[0m \u001b[43mfc\u001b[49m\u001b[38;5;241;43m.\u001b[39;49m\u001b[43mrender\u001b[49m(\u001b[38;5;124m\"\u001b[39m\u001b[38;5;124mflowchart.png\u001b[39m\u001b[38;5;124m\"\u001b[39m)\n\u001b[1;32m      7\u001b[0m \u001b[38;5;66;03m# Open the image file using Pillow and show it\u001b[39;00m\n\u001b[1;32m      8\u001b[0m img \u001b[38;5;241m=\u001b[39m Image\u001b[38;5;241m.\u001b[39mopen(\u001b[38;5;124m\"\u001b[39m\u001b[38;5;124mflowchart.png\u001b[39m\u001b[38;5;124m\"\u001b[39m)\n",
      "\u001b[0;31mAttributeError\u001b[0m: 'Flowchart' object has no attribute 'render'"
     ]
    }
   ],
   "source": [
    "# Create a Flowchart object from the pseudocode\n",
    "fc = Flowchart.from_code(code)\n",
    "\n",
    "# Render the flowchart to a PNG image file\n",
    "fc.render(\"flowchart.png\")\n",
    "\n",
    "# Open the image file using Pillow and show it\n",
    "img = Image.open(\"flowchart.png\")\n",
    "img.show()\n"
   ]
  },
  {
   "cell_type": "code",
   "execution_count": null,
   "id": "78288670",
   "metadata": {},
   "outputs": [],
   "source": []
  }
 ],
 "metadata": {
  "kernelspec": {
   "display_name": "Python 3 (ipykernel)",
   "language": "python",
   "name": "python3"
  },
  "language_info": {
   "codemirror_mode": {
    "name": "ipython",
    "version": 3
   },
   "file_extension": ".py",
   "mimetype": "text/x-python",
   "name": "python",
   "nbconvert_exporter": "python",
   "pygments_lexer": "ipython3",
   "version": "3.10.7"
  }
 },
 "nbformat": 4,
 "nbformat_minor": 5
}
